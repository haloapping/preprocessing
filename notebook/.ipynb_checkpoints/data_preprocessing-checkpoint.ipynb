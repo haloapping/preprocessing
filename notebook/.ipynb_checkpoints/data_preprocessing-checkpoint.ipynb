{
 "cells": [
  {
   "cell_type": "markdown",
   "metadata": {},
   "source": [
    "# Import Modules"
   ]
  },
  {
   "cell_type": "code",
   "execution_count": 1,
   "metadata": {
    "ExecuteTime": {
     "end_time": "2021-01-29T16:11:22.658710Z",
     "start_time": "2021-01-29T16:11:21.850320Z"
    }
   },
   "outputs": [],
   "source": [
    "import numpy as np\n",
    "import pandas as pd"
   ]
  },
  {
   "cell_type": "markdown",
   "metadata": {},
   "source": [
    "***\n",
    "# Initialize and load dataset"
   ]
  },
  {
   "cell_type": "code",
   "execution_count": 2,
   "metadata": {
    "ExecuteTime": {
     "end_time": "2021-01-29T16:11:22.705909Z",
     "start_time": "2021-01-29T16:11:22.660709Z"
    }
   },
   "outputs": [],
   "source": [
    "raw_df = pd.read_csv('../dataset/tomato/Price of Tomato Karnataka(2016-2018).csv')"
   ]
  },
  {
   "cell_type": "markdown",
   "metadata": {},
   "source": [
    "***\n",
    "# Show dataframe in table"
   ]
  },
  {
   "cell_type": "code",
   "execution_count": 3,
   "metadata": {
    "ExecuteTime": {
     "end_time": "2021-01-29T16:11:22.753071Z",
     "start_time": "2021-01-29T16:11:22.709442Z"
    }
   },
   "outputs": [
    {
     "data": {
      "text/html": [
       "<div>\n",
       "<style scoped>\n",
       "    .dataframe tbody tr th:only-of-type {\n",
       "        vertical-align: middle;\n",
       "    }\n",
       "\n",
       "    .dataframe tbody tr th {\n",
       "        vertical-align: top;\n",
       "    }\n",
       "\n",
       "    .dataframe thead th {\n",
       "        text-align: right;\n",
       "    }\n",
       "</style>\n",
       "<table border=\"1\" class=\"dataframe\">\n",
       "  <thead>\n",
       "    <tr style=\"text-align: right;\">\n",
       "      <th></th>\n",
       "      <th>Market</th>\n",
       "      <th>Arrival Date</th>\n",
       "      <th>Arrivals (Tonnes)</th>\n",
       "      <th>Variety</th>\n",
       "      <th>Minimum Price(Rs./Quintal)</th>\n",
       "      <th>Maximum Price(Rs./Quintal)</th>\n",
       "      <th>Modal Price(Rs./Quintal)</th>\n",
       "    </tr>\n",
       "  </thead>\n",
       "  <tbody>\n",
       "    <tr>\n",
       "      <th>0</th>\n",
       "      <td>Bagepalli</td>\n",
       "      <td>2/1/2016</td>\n",
       "      <td>6.0</td>\n",
       "      <td>Tomato</td>\n",
       "      <td>1000</td>\n",
       "      <td>1800</td>\n",
       "      <td>1550</td>\n",
       "    </tr>\n",
       "    <tr>\n",
       "      <th>1</th>\n",
       "      <td>Bagepalli</td>\n",
       "      <td>4/1/2016</td>\n",
       "      <td>6.0</td>\n",
       "      <td>Tomato</td>\n",
       "      <td>900</td>\n",
       "      <td>1800</td>\n",
       "      <td>1550</td>\n",
       "    </tr>\n",
       "    <tr>\n",
       "      <th>2</th>\n",
       "      <td>Bagepalli</td>\n",
       "      <td>5/1/2016</td>\n",
       "      <td>6.0</td>\n",
       "      <td>Tomato</td>\n",
       "      <td>1400</td>\n",
       "      <td>2500</td>\n",
       "      <td>2200</td>\n",
       "    </tr>\n",
       "    <tr>\n",
       "      <th>3</th>\n",
       "      <td>Bagepalli</td>\n",
       "      <td>6/1/2016</td>\n",
       "      <td>4.0</td>\n",
       "      <td>Tomato</td>\n",
       "      <td>1400</td>\n",
       "      <td>3000</td>\n",
       "      <td>2400</td>\n",
       "    </tr>\n",
       "    <tr>\n",
       "      <th>4</th>\n",
       "      <td>Bagepalli</td>\n",
       "      <td>7/1/2016</td>\n",
       "      <td>5.0</td>\n",
       "      <td>Tomato</td>\n",
       "      <td>1400</td>\n",
       "      <td>2600</td>\n",
       "      <td>2200</td>\n",
       "    </tr>\n",
       "    <tr>\n",
       "      <th>5</th>\n",
       "      <td>Bagepalli</td>\n",
       "      <td>11/1/2016</td>\n",
       "      <td>5.0</td>\n",
       "      <td>Tomato</td>\n",
       "      <td>1400</td>\n",
       "      <td>2800</td>\n",
       "      <td>2200</td>\n",
       "    </tr>\n",
       "    <tr>\n",
       "      <th>6</th>\n",
       "      <td>Bagepalli</td>\n",
       "      <td>12/1/2016</td>\n",
       "      <td>6.0</td>\n",
       "      <td>Tomato</td>\n",
       "      <td>1500</td>\n",
       "      <td>2400</td>\n",
       "      <td>2000</td>\n",
       "    </tr>\n",
       "    <tr>\n",
       "      <th>7</th>\n",
       "      <td>Bagepalli</td>\n",
       "      <td>13/01/2016</td>\n",
       "      <td>7.0</td>\n",
       "      <td>Tomato</td>\n",
       "      <td>1400</td>\n",
       "      <td>2600</td>\n",
       "      <td>2200</td>\n",
       "    </tr>\n",
       "    <tr>\n",
       "      <th>8</th>\n",
       "      <td>Bagepalli</td>\n",
       "      <td>14/01/2016</td>\n",
       "      <td>7.0</td>\n",
       "      <td>Tomato</td>\n",
       "      <td>1200</td>\n",
       "      <td>2200</td>\n",
       "      <td>2000</td>\n",
       "    </tr>\n",
       "    <tr>\n",
       "      <th>9</th>\n",
       "      <td>Bagepalli</td>\n",
       "      <td>16/01/2016</td>\n",
       "      <td>5.0</td>\n",
       "      <td>Tomato</td>\n",
       "      <td>1200</td>\n",
       "      <td>2200</td>\n",
       "      <td>1800</td>\n",
       "    </tr>\n",
       "  </tbody>\n",
       "</table>\n",
       "</div>"
      ],
      "text/plain": [
       "      Market Arrival Date  Arrivals (Tonnes) Variety  \\\n",
       "0  Bagepalli     2/1/2016                6.0  Tomato   \n",
       "1  Bagepalli     4/1/2016                6.0  Tomato   \n",
       "2  Bagepalli     5/1/2016                6.0  Tomato   \n",
       "3  Bagepalli     6/1/2016                4.0  Tomato   \n",
       "4  Bagepalli     7/1/2016                5.0  Tomato   \n",
       "5  Bagepalli    11/1/2016                5.0  Tomato   \n",
       "6  Bagepalli    12/1/2016                6.0  Tomato   \n",
       "7  Bagepalli   13/01/2016                7.0  Tomato   \n",
       "8  Bagepalli   14/01/2016                7.0  Tomato   \n",
       "9  Bagepalli   16/01/2016                5.0  Tomato   \n",
       "\n",
       "  Minimum Price(Rs./Quintal) Maximum Price(Rs./Quintal)  \\\n",
       "0                       1000                       1800   \n",
       "1                        900                       1800   \n",
       "2                       1400                       2500   \n",
       "3                       1400                       3000   \n",
       "4                       1400                       2600   \n",
       "5                       1400                       2800   \n",
       "6                       1500                       2400   \n",
       "7                       1400                       2600   \n",
       "8                       1200                       2200   \n",
       "9                       1200                       2200   \n",
       "\n",
       "  Modal Price(Rs./Quintal)  \n",
       "0                     1550  \n",
       "1                     1550  \n",
       "2                     2200  \n",
       "3                     2400  \n",
       "4                     2200  \n",
       "5                     2200  \n",
       "6                     2000  \n",
       "7                     2200  \n",
       "8                     2000  \n",
       "9                     1800  "
      ]
     },
     "execution_count": 3,
     "metadata": {},
     "output_type": "execute_result"
    }
   ],
   "source": [
    "raw_df.head(10)"
   ]
  },
  {
   "cell_type": "code",
   "execution_count": 4,
   "metadata": {
    "ExecuteTime": {
     "end_time": "2021-01-29T16:11:22.830684Z",
     "start_time": "2021-01-29T16:11:22.756232Z"
    }
   },
   "outputs": [
    {
     "data": {
      "text/html": [
       "<div>\n",
       "<style scoped>\n",
       "    .dataframe tbody tr th:only-of-type {\n",
       "        vertical-align: middle;\n",
       "    }\n",
       "\n",
       "    .dataframe tbody tr th {\n",
       "        vertical-align: top;\n",
       "    }\n",
       "\n",
       "    .dataframe thead th {\n",
       "        text-align: right;\n",
       "    }\n",
       "</style>\n",
       "<table border=\"1\" class=\"dataframe\">\n",
       "  <thead>\n",
       "    <tr style=\"text-align: right;\">\n",
       "      <th></th>\n",
       "      <th>Market</th>\n",
       "      <th>Arrival Date</th>\n",
       "      <th>Arrivals (Tonnes)</th>\n",
       "      <th>Variety</th>\n",
       "      <th>Minimum Price(Rs./Quintal)</th>\n",
       "      <th>Maximum Price(Rs./Quintal)</th>\n",
       "      <th>Modal Price(Rs./Quintal)</th>\n",
       "    </tr>\n",
       "  </thead>\n",
       "  <tbody>\n",
       "    <tr>\n",
       "      <th>count</th>\n",
       "      <td>11456</td>\n",
       "      <td>11321</td>\n",
       "      <td>11321.000000</td>\n",
       "      <td>11421</td>\n",
       "      <td>11456</td>\n",
       "      <td>11456</td>\n",
       "      <td>11456</td>\n",
       "    </tr>\n",
       "    <tr>\n",
       "      <th>unique</th>\n",
       "      <td>40</td>\n",
       "      <td>844</td>\n",
       "      <td>NaN</td>\n",
       "      <td>2</td>\n",
       "      <td>679</td>\n",
       "      <td>934</td>\n",
       "      <td>1016</td>\n",
       "    </tr>\n",
       "    <tr>\n",
       "      <th>top</th>\n",
       "      <td>Kolar</td>\n",
       "      <td>16/08/2016</td>\n",
       "      <td>NaN</td>\n",
       "      <td>Tomato</td>\n",
       "      <td>300</td>\n",
       "      <td>1000</td>\n",
       "      <td>500</td>\n",
       "    </tr>\n",
       "    <tr>\n",
       "      <th>freq</th>\n",
       "      <td>954</td>\n",
       "      <td>24</td>\n",
       "      <td>NaN</td>\n",
       "      <td>11196</td>\n",
       "      <td>1179</td>\n",
       "      <td>939</td>\n",
       "      <td>675</td>\n",
       "    </tr>\n",
       "    <tr>\n",
       "      <th>mean</th>\n",
       "      <td>NaN</td>\n",
       "      <td>NaN</td>\n",
       "      <td>80.269146</td>\n",
       "      <td>NaN</td>\n",
       "      <td>NaN</td>\n",
       "      <td>NaN</td>\n",
       "      <td>NaN</td>\n",
       "    </tr>\n",
       "    <tr>\n",
       "      <th>std</th>\n",
       "      <td>NaN</td>\n",
       "      <td>NaN</td>\n",
       "      <td>154.967086</td>\n",
       "      <td>NaN</td>\n",
       "      <td>NaN</td>\n",
       "      <td>NaN</td>\n",
       "      <td>NaN</td>\n",
       "    </tr>\n",
       "    <tr>\n",
       "      <th>min</th>\n",
       "      <td>NaN</td>\n",
       "      <td>NaN</td>\n",
       "      <td>1.000000</td>\n",
       "      <td>NaN</td>\n",
       "      <td>NaN</td>\n",
       "      <td>NaN</td>\n",
       "      <td>NaN</td>\n",
       "    </tr>\n",
       "    <tr>\n",
       "      <th>25%</th>\n",
       "      <td>NaN</td>\n",
       "      <td>NaN</td>\n",
       "      <td>4.000000</td>\n",
       "      <td>NaN</td>\n",
       "      <td>NaN</td>\n",
       "      <td>NaN</td>\n",
       "      <td>NaN</td>\n",
       "    </tr>\n",
       "    <tr>\n",
       "      <th>50%</th>\n",
       "      <td>NaN</td>\n",
       "      <td>NaN</td>\n",
       "      <td>19.000000</td>\n",
       "      <td>NaN</td>\n",
       "      <td>NaN</td>\n",
       "      <td>NaN</td>\n",
       "      <td>NaN</td>\n",
       "    </tr>\n",
       "    <tr>\n",
       "      <th>75%</th>\n",
       "      <td>NaN</td>\n",
       "      <td>NaN</td>\n",
       "      <td>70.000000</td>\n",
       "      <td>NaN</td>\n",
       "      <td>NaN</td>\n",
       "      <td>NaN</td>\n",
       "      <td>NaN</td>\n",
       "    </tr>\n",
       "    <tr>\n",
       "      <th>max</th>\n",
       "      <td>NaN</td>\n",
       "      <td>NaN</td>\n",
       "      <td>1931.000000</td>\n",
       "      <td>NaN</td>\n",
       "      <td>NaN</td>\n",
       "      <td>NaN</td>\n",
       "      <td>NaN</td>\n",
       "    </tr>\n",
       "  </tbody>\n",
       "</table>\n",
       "</div>"
      ],
      "text/plain": [
       "       Market Arrival Date  Arrivals (Tonnes) Variety  \\\n",
       "count   11456        11321       11321.000000   11421   \n",
       "unique     40          844                NaN       2   \n",
       "top     Kolar   16/08/2016                NaN  Tomato   \n",
       "freq      954           24                NaN   11196   \n",
       "mean      NaN          NaN          80.269146     NaN   \n",
       "std       NaN          NaN         154.967086     NaN   \n",
       "min       NaN          NaN           1.000000     NaN   \n",
       "25%       NaN          NaN           4.000000     NaN   \n",
       "50%       NaN          NaN          19.000000     NaN   \n",
       "75%       NaN          NaN          70.000000     NaN   \n",
       "max       NaN          NaN        1931.000000     NaN   \n",
       "\n",
       "       Minimum Price(Rs./Quintal) Maximum Price(Rs./Quintal)  \\\n",
       "count                       11456                      11456   \n",
       "unique                        679                        934   \n",
       "top                           300                       1000   \n",
       "freq                         1179                        939   \n",
       "mean                          NaN                        NaN   \n",
       "std                           NaN                        NaN   \n",
       "min                           NaN                        NaN   \n",
       "25%                           NaN                        NaN   \n",
       "50%                           NaN                        NaN   \n",
       "75%                           NaN                        NaN   \n",
       "max                           NaN                        NaN   \n",
       "\n",
       "       Modal Price(Rs./Quintal)  \n",
       "count                     11456  \n",
       "unique                     1016  \n",
       "top                         500  \n",
       "freq                        675  \n",
       "mean                        NaN  \n",
       "std                         NaN  \n",
       "min                         NaN  \n",
       "25%                         NaN  \n",
       "50%                         NaN  \n",
       "75%                         NaN  \n",
       "max                         NaN  "
      ]
     },
     "execution_count": 4,
     "metadata": {},
     "output_type": "execute_result"
    }
   ],
   "source": [
    "raw_df.describe(include='all')"
   ]
  },
  {
   "cell_type": "code",
   "execution_count": 5,
   "metadata": {
    "ExecuteTime": {
     "end_time": "2021-01-29T16:11:22.861285Z",
     "start_time": "2021-01-29T16:11:22.833769Z"
    }
   },
   "outputs": [],
   "source": [
    "raw_no_mv_df = raw_df.dropna()"
   ]
  },
  {
   "cell_type": "code",
   "execution_count": 6,
   "metadata": {
    "ExecuteTime": {
     "end_time": "2021-01-29T16:11:22.923263Z",
     "start_time": "2021-01-29T16:11:22.866151Z"
    }
   },
   "outputs": [
    {
     "data": {
      "text/html": [
       "<div>\n",
       "<style scoped>\n",
       "    .dataframe tbody tr th:only-of-type {\n",
       "        vertical-align: middle;\n",
       "    }\n",
       "\n",
       "    .dataframe tbody tr th {\n",
       "        vertical-align: top;\n",
       "    }\n",
       "\n",
       "    .dataframe thead th {\n",
       "        text-align: right;\n",
       "    }\n",
       "</style>\n",
       "<table border=\"1\" class=\"dataframe\">\n",
       "  <thead>\n",
       "    <tr style=\"text-align: right;\">\n",
       "      <th></th>\n",
       "      <th>Market</th>\n",
       "      <th>Arrival Date</th>\n",
       "      <th>Arrivals (Tonnes)</th>\n",
       "      <th>Variety</th>\n",
       "      <th>Minimum Price(Rs./Quintal)</th>\n",
       "      <th>Maximum Price(Rs./Quintal)</th>\n",
       "      <th>Modal Price(Rs./Quintal)</th>\n",
       "    </tr>\n",
       "  </thead>\n",
       "  <tbody>\n",
       "    <tr>\n",
       "      <th>count</th>\n",
       "      <td>11456</td>\n",
       "      <td>11321</td>\n",
       "      <td>11321.000000</td>\n",
       "      <td>11421</td>\n",
       "      <td>11456</td>\n",
       "      <td>11456</td>\n",
       "      <td>11456</td>\n",
       "    </tr>\n",
       "    <tr>\n",
       "      <th>unique</th>\n",
       "      <td>40</td>\n",
       "      <td>844</td>\n",
       "      <td>NaN</td>\n",
       "      <td>2</td>\n",
       "      <td>679</td>\n",
       "      <td>934</td>\n",
       "      <td>1016</td>\n",
       "    </tr>\n",
       "    <tr>\n",
       "      <th>top</th>\n",
       "      <td>Kolar</td>\n",
       "      <td>16/08/2016</td>\n",
       "      <td>NaN</td>\n",
       "      <td>Tomato</td>\n",
       "      <td>300</td>\n",
       "      <td>1000</td>\n",
       "      <td>500</td>\n",
       "    </tr>\n",
       "    <tr>\n",
       "      <th>freq</th>\n",
       "      <td>954</td>\n",
       "      <td>24</td>\n",
       "      <td>NaN</td>\n",
       "      <td>11196</td>\n",
       "      <td>1179</td>\n",
       "      <td>939</td>\n",
       "      <td>675</td>\n",
       "    </tr>\n",
       "    <tr>\n",
       "      <th>mean</th>\n",
       "      <td>NaN</td>\n",
       "      <td>NaN</td>\n",
       "      <td>80.269146</td>\n",
       "      <td>NaN</td>\n",
       "      <td>NaN</td>\n",
       "      <td>NaN</td>\n",
       "      <td>NaN</td>\n",
       "    </tr>\n",
       "    <tr>\n",
       "      <th>std</th>\n",
       "      <td>NaN</td>\n",
       "      <td>NaN</td>\n",
       "      <td>154.967086</td>\n",
       "      <td>NaN</td>\n",
       "      <td>NaN</td>\n",
       "      <td>NaN</td>\n",
       "      <td>NaN</td>\n",
       "    </tr>\n",
       "    <tr>\n",
       "      <th>min</th>\n",
       "      <td>NaN</td>\n",
       "      <td>NaN</td>\n",
       "      <td>1.000000</td>\n",
       "      <td>NaN</td>\n",
       "      <td>NaN</td>\n",
       "      <td>NaN</td>\n",
       "      <td>NaN</td>\n",
       "    </tr>\n",
       "    <tr>\n",
       "      <th>25%</th>\n",
       "      <td>NaN</td>\n",
       "      <td>NaN</td>\n",
       "      <td>4.000000</td>\n",
       "      <td>NaN</td>\n",
       "      <td>NaN</td>\n",
       "      <td>NaN</td>\n",
       "      <td>NaN</td>\n",
       "    </tr>\n",
       "    <tr>\n",
       "      <th>50%</th>\n",
       "      <td>NaN</td>\n",
       "      <td>NaN</td>\n",
       "      <td>19.000000</td>\n",
       "      <td>NaN</td>\n",
       "      <td>NaN</td>\n",
       "      <td>NaN</td>\n",
       "      <td>NaN</td>\n",
       "    </tr>\n",
       "    <tr>\n",
       "      <th>75%</th>\n",
       "      <td>NaN</td>\n",
       "      <td>NaN</td>\n",
       "      <td>70.000000</td>\n",
       "      <td>NaN</td>\n",
       "      <td>NaN</td>\n",
       "      <td>NaN</td>\n",
       "      <td>NaN</td>\n",
       "    </tr>\n",
       "    <tr>\n",
       "      <th>max</th>\n",
       "      <td>NaN</td>\n",
       "      <td>NaN</td>\n",
       "      <td>1931.000000</td>\n",
       "      <td>NaN</td>\n",
       "      <td>NaN</td>\n",
       "      <td>NaN</td>\n",
       "      <td>NaN</td>\n",
       "    </tr>\n",
       "  </tbody>\n",
       "</table>\n",
       "</div>"
      ],
      "text/plain": [
       "       Market Arrival Date  Arrivals (Tonnes) Variety  \\\n",
       "count   11456        11321       11321.000000   11421   \n",
       "unique     40          844                NaN       2   \n",
       "top     Kolar   16/08/2016                NaN  Tomato   \n",
       "freq      954           24                NaN   11196   \n",
       "mean      NaN          NaN          80.269146     NaN   \n",
       "std       NaN          NaN         154.967086     NaN   \n",
       "min       NaN          NaN           1.000000     NaN   \n",
       "25%       NaN          NaN           4.000000     NaN   \n",
       "50%       NaN          NaN          19.000000     NaN   \n",
       "75%       NaN          NaN          70.000000     NaN   \n",
       "max       NaN          NaN        1931.000000     NaN   \n",
       "\n",
       "       Minimum Price(Rs./Quintal) Maximum Price(Rs./Quintal)  \\\n",
       "count                       11456                      11456   \n",
       "unique                        679                        934   \n",
       "top                           300                       1000   \n",
       "freq                         1179                        939   \n",
       "mean                          NaN                        NaN   \n",
       "std                           NaN                        NaN   \n",
       "min                           NaN                        NaN   \n",
       "25%                           NaN                        NaN   \n",
       "50%                           NaN                        NaN   \n",
       "75%                           NaN                        NaN   \n",
       "max                           NaN                        NaN   \n",
       "\n",
       "       Modal Price(Rs./Quintal)  \n",
       "count                     11456  \n",
       "unique                     1016  \n",
       "top                         500  \n",
       "freq                        675  \n",
       "mean                        NaN  \n",
       "std                         NaN  \n",
       "min                         NaN  \n",
       "25%                         NaN  \n",
       "50%                         NaN  \n",
       "75%                         NaN  \n",
       "max                         NaN  "
      ]
     },
     "execution_count": 6,
     "metadata": {},
     "output_type": "execute_result"
    }
   ],
   "source": [
    "raw_df.describe(include='all')"
   ]
  },
  {
   "cell_type": "code",
   "execution_count": 7,
   "metadata": {
    "ExecuteTime": {
     "end_time": "2021-01-29T16:11:22.970022Z",
     "start_time": "2021-01-29T16:11:22.927264Z"
    }
   },
   "outputs": [
    {
     "data": {
      "text/html": [
       "<div>\n",
       "<style scoped>\n",
       "    .dataframe tbody tr th:only-of-type {\n",
       "        vertical-align: middle;\n",
       "    }\n",
       "\n",
       "    .dataframe tbody tr th {\n",
       "        vertical-align: top;\n",
       "    }\n",
       "\n",
       "    .dataframe thead th {\n",
       "        text-align: right;\n",
       "    }\n",
       "</style>\n",
       "<table border=\"1\" class=\"dataframe\">\n",
       "  <thead>\n",
       "    <tr style=\"text-align: right;\">\n",
       "      <th></th>\n",
       "      <th>Market</th>\n",
       "      <th>Arrival Date</th>\n",
       "      <th>Arrivals (Tonnes)</th>\n",
       "      <th>Variety</th>\n",
       "      <th>Minimum Price(Rs./Quintal)</th>\n",
       "      <th>Maximum Price(Rs./Quintal)</th>\n",
       "      <th>Modal Price(Rs./Quintal)</th>\n",
       "    </tr>\n",
       "  </thead>\n",
       "  <tbody>\n",
       "    <tr>\n",
       "      <th>0</th>\n",
       "      <td>Bagepalli</td>\n",
       "      <td>2/1/2016</td>\n",
       "      <td>6.0</td>\n",
       "      <td>Tomato</td>\n",
       "      <td>1000</td>\n",
       "      <td>1800</td>\n",
       "      <td>1550</td>\n",
       "    </tr>\n",
       "    <tr>\n",
       "      <th>1</th>\n",
       "      <td>Bagepalli</td>\n",
       "      <td>4/1/2016</td>\n",
       "      <td>6.0</td>\n",
       "      <td>Tomato</td>\n",
       "      <td>900</td>\n",
       "      <td>1800</td>\n",
       "      <td>1550</td>\n",
       "    </tr>\n",
       "    <tr>\n",
       "      <th>2</th>\n",
       "      <td>Bagepalli</td>\n",
       "      <td>5/1/2016</td>\n",
       "      <td>6.0</td>\n",
       "      <td>Tomato</td>\n",
       "      <td>1400</td>\n",
       "      <td>2500</td>\n",
       "      <td>2200</td>\n",
       "    </tr>\n",
       "    <tr>\n",
       "      <th>3</th>\n",
       "      <td>Bagepalli</td>\n",
       "      <td>6/1/2016</td>\n",
       "      <td>4.0</td>\n",
       "      <td>Tomato</td>\n",
       "      <td>1400</td>\n",
       "      <td>3000</td>\n",
       "      <td>2400</td>\n",
       "    </tr>\n",
       "    <tr>\n",
       "      <th>4</th>\n",
       "      <td>Bagepalli</td>\n",
       "      <td>7/1/2016</td>\n",
       "      <td>5.0</td>\n",
       "      <td>Tomato</td>\n",
       "      <td>1400</td>\n",
       "      <td>2600</td>\n",
       "      <td>2200</td>\n",
       "    </tr>\n",
       "    <tr>\n",
       "      <th>...</th>\n",
       "      <td>...</td>\n",
       "      <td>...</td>\n",
       "      <td>...</td>\n",
       "      <td>...</td>\n",
       "      <td>...</td>\n",
       "      <td>...</td>\n",
       "      <td>...</td>\n",
       "    </tr>\n",
       "    <tr>\n",
       "      <th>11451</th>\n",
       "      <td>Srinivasapur</td>\n",
       "      <td>28/04/2018</td>\n",
       "      <td>33.0</td>\n",
       "      <td>Tomato</td>\n",
       "      <td>166</td>\n",
       "      <td>600</td>\n",
       "      <td>266</td>\n",
       "    </tr>\n",
       "    <tr>\n",
       "      <th>11452</th>\n",
       "      <td>Srinivasapur</td>\n",
       "      <td>29/04/2018</td>\n",
       "      <td>55.0</td>\n",
       "      <td>Tomato</td>\n",
       "      <td>233</td>\n",
       "      <td>700</td>\n",
       "      <td>400</td>\n",
       "    </tr>\n",
       "    <tr>\n",
       "      <th>11453</th>\n",
       "      <td>Srinivasapur</td>\n",
       "      <td>30/04/2018</td>\n",
       "      <td>43.0</td>\n",
       "      <td>Tomato</td>\n",
       "      <td>200</td>\n",
       "      <td>466</td>\n",
       "      <td>300</td>\n",
       "    </tr>\n",
       "    <tr>\n",
       "      <th>11454</th>\n",
       "      <td>Udupi</td>\n",
       "      <td>4/4/2018</td>\n",
       "      <td>6.0</td>\n",
       "      <td>Tomato</td>\n",
       "      <td>900</td>\n",
       "      <td>1100</td>\n",
       "      <td>1000</td>\n",
       "    </tr>\n",
       "    <tr>\n",
       "      <th>11455</th>\n",
       "      <td>Udupi</td>\n",
       "      <td>11/4/2018</td>\n",
       "      <td>5.0</td>\n",
       "      <td>Tomato</td>\n",
       "      <td>900</td>\n",
       "      <td>1100</td>\n",
       "      <td>1000</td>\n",
       "    </tr>\n",
       "  </tbody>\n",
       "</table>\n",
       "<p>11286 rows × 7 columns</p>\n",
       "</div>"
      ],
      "text/plain": [
       "             Market Arrival Date  Arrivals (Tonnes) Variety  \\\n",
       "0         Bagepalli     2/1/2016                6.0  Tomato   \n",
       "1         Bagepalli     4/1/2016                6.0  Tomato   \n",
       "2         Bagepalli     5/1/2016                6.0  Tomato   \n",
       "3         Bagepalli     6/1/2016                4.0  Tomato   \n",
       "4         Bagepalli     7/1/2016                5.0  Tomato   \n",
       "...             ...          ...                ...     ...   \n",
       "11451  Srinivasapur   28/04/2018               33.0  Tomato   \n",
       "11452  Srinivasapur   29/04/2018               55.0  Tomato   \n",
       "11453  Srinivasapur   30/04/2018               43.0  Tomato   \n",
       "11454         Udupi     4/4/2018                6.0  Tomato   \n",
       "11455         Udupi    11/4/2018                5.0  Tomato   \n",
       "\n",
       "      Minimum Price(Rs./Quintal) Maximum Price(Rs./Quintal)  \\\n",
       "0                           1000                       1800   \n",
       "1                            900                       1800   \n",
       "2                           1400                       2500   \n",
       "3                           1400                       3000   \n",
       "4                           1400                       2600   \n",
       "...                          ...                        ...   \n",
       "11451                        166                        600   \n",
       "11452                        233                        700   \n",
       "11453                        200                        466   \n",
       "11454                        900                       1100   \n",
       "11455                        900                       1100   \n",
       "\n",
       "      Modal Price(Rs./Quintal)  \n",
       "0                         1550  \n",
       "1                         1550  \n",
       "2                         2200  \n",
       "3                         2400  \n",
       "4                         2200  \n",
       "...                        ...  \n",
       "11451                      266  \n",
       "11452                      400  \n",
       "11453                      300  \n",
       "11454                     1000  \n",
       "11455                     1000  \n",
       "\n",
       "[11286 rows x 7 columns]"
      ]
     },
     "execution_count": 7,
     "metadata": {},
     "output_type": "execute_result"
    }
   ],
   "source": [
    "raw_no_mv_df"
   ]
  },
  {
   "cell_type": "markdown",
   "metadata": {},
   "source": [
    "***\n",
    "# Data Clean"
   ]
  },
  {
   "cell_type": "markdown",
   "metadata": {},
   "source": [
    "#### - Mismatched Value"
   ]
  },
  {
   "cell_type": "markdown",
   "metadata": {},
   "source": [
    "Replace value NR with 0"
   ]
  },
  {
   "cell_type": "code",
   "execution_count": 8,
   "metadata": {
    "ExecuteTime": {
     "end_time": "2021-01-29T16:11:22.986084Z",
     "start_time": "2021-01-29T16:11:22.974081Z"
    }
   },
   "outputs": [],
   "source": [
    "raw_replace_zero_df = raw_df.replace('NR', 0)"
   ]
  },
  {
   "cell_type": "markdown",
   "metadata": {},
   "source": [
    "Ganti datatype untuk kolom Minimum Price(Rs./Quintal), Maximum Price(Rs./Quintal), dan Modal Price(Rs./Quintal) menjadi int64."
   ]
  },
  {
   "cell_type": "code",
   "execution_count": 9,
   "metadata": {
    "ExecuteTime": {
     "end_time": "2021-01-29T16:11:23.017445Z",
     "start_time": "2021-01-29T16:11:22.989188Z"
    },
    "scrolled": true
   },
   "outputs": [],
   "source": [
    "# raw_replace_zero_df[(raw_replace_zero_df['Minimum Price(Rs./Quintal)'] == 'NR') | (raw_replace_zero_df['Maximum Price(Rs./Quintal)'] == 'NR') | (raw_replace_zero_df['Modal Price(Rs./Quintal)'] == 'NR')]\n",
    "raw_convert_datatype_df =raw_replace_zero_df.astype({'Minimum Price(Rs./Quintal)':'int64',\n",
    "                                                     'Maximum Price(Rs./Quintal)':'int64',\n",
    "                                                     'Modal Price(Rs./Quintal)':'int64'},\n",
    "                                                   )"
   ]
  },
  {
   "cell_type": "code",
   "execution_count": 10,
   "metadata": {
    "ExecuteTime": {
     "end_time": "2021-01-29T16:11:23.033401Z",
     "start_time": "2021-01-29T16:11:23.020740Z"
    }
   },
   "outputs": [
    {
     "data": {
      "text/plain": [
       "Market                         object\n",
       "Arrival Date                   object\n",
       "Arrivals (Tonnes)             float64\n",
       "Variety                        object\n",
       "Minimum Price(Rs./Quintal)      int64\n",
       "Maximum Price(Rs./Quintal)      int64\n",
       "Modal Price(Rs./Quintal)        int64\n",
       "dtype: object"
      ]
     },
     "execution_count": 10,
     "metadata": {},
     "output_type": "execute_result"
    }
   ],
   "source": [
    "raw_convert_datatype_df.dtypes"
   ]
  },
  {
   "cell_type": "code",
   "execution_count": 11,
   "metadata": {
    "ExecuteTime": {
     "end_time": "2021-01-29T16:11:23.110719Z",
     "start_time": "2021-01-29T16:11:23.036395Z"
    }
   },
   "outputs": [
    {
     "data": {
      "text/html": [
       "<div>\n",
       "<style scoped>\n",
       "    .dataframe tbody tr th:only-of-type {\n",
       "        vertical-align: middle;\n",
       "    }\n",
       "\n",
       "    .dataframe tbody tr th {\n",
       "        vertical-align: top;\n",
       "    }\n",
       "\n",
       "    .dataframe thead th {\n",
       "        text-align: right;\n",
       "    }\n",
       "</style>\n",
       "<table border=\"1\" class=\"dataframe\">\n",
       "  <thead>\n",
       "    <tr style=\"text-align: right;\">\n",
       "      <th></th>\n",
       "      <th>Market</th>\n",
       "      <th>Arrival Date</th>\n",
       "      <th>Arrivals (Tonnes)</th>\n",
       "      <th>Variety</th>\n",
       "      <th>Minimum Price(Rs./Quintal)</th>\n",
       "      <th>Maximum Price(Rs./Quintal)</th>\n",
       "      <th>Modal Price(Rs./Quintal)</th>\n",
       "    </tr>\n",
       "  </thead>\n",
       "  <tbody>\n",
       "    <tr>\n",
       "      <th>count</th>\n",
       "      <td>11456</td>\n",
       "      <td>11321</td>\n",
       "      <td>11321.000000</td>\n",
       "      <td>11421</td>\n",
       "      <td>11456.000000</td>\n",
       "      <td>11456.000000</td>\n",
       "      <td>11456.000000</td>\n",
       "    </tr>\n",
       "    <tr>\n",
       "      <th>unique</th>\n",
       "      <td>40</td>\n",
       "      <td>844</td>\n",
       "      <td>NaN</td>\n",
       "      <td>2</td>\n",
       "      <td>NaN</td>\n",
       "      <td>NaN</td>\n",
       "      <td>NaN</td>\n",
       "    </tr>\n",
       "    <tr>\n",
       "      <th>top</th>\n",
       "      <td>Kolar</td>\n",
       "      <td>16/08/2016</td>\n",
       "      <td>NaN</td>\n",
       "      <td>Tomato</td>\n",
       "      <td>NaN</td>\n",
       "      <td>NaN</td>\n",
       "      <td>NaN</td>\n",
       "    </tr>\n",
       "    <tr>\n",
       "      <th>freq</th>\n",
       "      <td>954</td>\n",
       "      <td>24</td>\n",
       "      <td>NaN</td>\n",
       "      <td>11196</td>\n",
       "      <td>NaN</td>\n",
       "      <td>NaN</td>\n",
       "      <td>NaN</td>\n",
       "    </tr>\n",
       "    <tr>\n",
       "      <th>mean</th>\n",
       "      <td>NaN</td>\n",
       "      <td>NaN</td>\n",
       "      <td>80.269146</td>\n",
       "      <td>NaN</td>\n",
       "      <td>856.722678</td>\n",
       "      <td>1598.558397</td>\n",
       "      <td>1264.391236</td>\n",
       "    </tr>\n",
       "    <tr>\n",
       "      <th>std</th>\n",
       "      <td>NaN</td>\n",
       "      <td>NaN</td>\n",
       "      <td>154.967086</td>\n",
       "      <td>NaN</td>\n",
       "      <td>921.910204</td>\n",
       "      <td>1382.300145</td>\n",
       "      <td>1122.602081</td>\n",
       "    </tr>\n",
       "    <tr>\n",
       "      <th>min</th>\n",
       "      <td>NaN</td>\n",
       "      <td>NaN</td>\n",
       "      <td>1.000000</td>\n",
       "      <td>NaN</td>\n",
       "      <td>0.000000</td>\n",
       "      <td>0.000000</td>\n",
       "      <td>0.000000</td>\n",
       "    </tr>\n",
       "    <tr>\n",
       "      <th>25%</th>\n",
       "      <td>NaN</td>\n",
       "      <td>NaN</td>\n",
       "      <td>4.000000</td>\n",
       "      <td>NaN</td>\n",
       "      <td>300.000000</td>\n",
       "      <td>600.000000</td>\n",
       "      <td>499.000000</td>\n",
       "    </tr>\n",
       "    <tr>\n",
       "      <th>50%</th>\n",
       "      <td>NaN</td>\n",
       "      <td>NaN</td>\n",
       "      <td>19.000000</td>\n",
       "      <td>NaN</td>\n",
       "      <td>500.000000</td>\n",
       "      <td>1000.000000</td>\n",
       "      <td>865.000000</td>\n",
       "    </tr>\n",
       "    <tr>\n",
       "      <th>75%</th>\n",
       "      <td>NaN</td>\n",
       "      <td>NaN</td>\n",
       "      <td>70.000000</td>\n",
       "      <td>NaN</td>\n",
       "      <td>1000.000000</td>\n",
       "      <td>2081.500000</td>\n",
       "      <td>1700.000000</td>\n",
       "    </tr>\n",
       "    <tr>\n",
       "      <th>max</th>\n",
       "      <td>NaN</td>\n",
       "      <td>NaN</td>\n",
       "      <td>1931.000000</td>\n",
       "      <td>NaN</td>\n",
       "      <td>9000.000000</td>\n",
       "      <td>10000.000000</td>\n",
       "      <td>9000.000000</td>\n",
       "    </tr>\n",
       "  </tbody>\n",
       "</table>\n",
       "</div>"
      ],
      "text/plain": [
       "       Market Arrival Date  Arrivals (Tonnes) Variety  \\\n",
       "count   11456        11321       11321.000000   11421   \n",
       "unique     40          844                NaN       2   \n",
       "top     Kolar   16/08/2016                NaN  Tomato   \n",
       "freq      954           24                NaN   11196   \n",
       "mean      NaN          NaN          80.269146     NaN   \n",
       "std       NaN          NaN         154.967086     NaN   \n",
       "min       NaN          NaN           1.000000     NaN   \n",
       "25%       NaN          NaN           4.000000     NaN   \n",
       "50%       NaN          NaN          19.000000     NaN   \n",
       "75%       NaN          NaN          70.000000     NaN   \n",
       "max       NaN          NaN        1931.000000     NaN   \n",
       "\n",
       "        Minimum Price(Rs./Quintal)  Maximum Price(Rs./Quintal)  \\\n",
       "count                 11456.000000                11456.000000   \n",
       "unique                         NaN                         NaN   \n",
       "top                            NaN                         NaN   \n",
       "freq                           NaN                         NaN   \n",
       "mean                    856.722678                 1598.558397   \n",
       "std                     921.910204                 1382.300145   \n",
       "min                       0.000000                    0.000000   \n",
       "25%                     300.000000                  600.000000   \n",
       "50%                     500.000000                 1000.000000   \n",
       "75%                    1000.000000                 2081.500000   \n",
       "max                    9000.000000                10000.000000   \n",
       "\n",
       "        Modal Price(Rs./Quintal)  \n",
       "count               11456.000000  \n",
       "unique                       NaN  \n",
       "top                          NaN  \n",
       "freq                         NaN  \n",
       "mean                 1264.391236  \n",
       "std                  1122.602081  \n",
       "min                     0.000000  \n",
       "25%                   499.000000  \n",
       "50%                   865.000000  \n",
       "75%                  1700.000000  \n",
       "max                  9000.000000  "
      ]
     },
     "execution_count": 11,
     "metadata": {},
     "output_type": "execute_result"
    }
   ],
   "source": [
    "raw_convert_datatype_df.describe(include='all')"
   ]
  },
  {
   "cell_type": "code",
   "execution_count": 12,
   "metadata": {
    "ExecuteTime": {
     "end_time": "2021-01-29T16:11:23.141620Z",
     "start_time": "2021-01-29T16:11:23.113780Z"
    }
   },
   "outputs": [
    {
     "data": {
      "text/plain": [
       "Market                          0\n",
       "Arrival Date                  135\n",
       "Arrivals (Tonnes)             135\n",
       "Variety                        35\n",
       "Minimum Price(Rs./Quintal)      0\n",
       "Maximum Price(Rs./Quintal)      0\n",
       "Modal Price(Rs./Quintal)        0\n",
       "dtype: int64"
      ]
     },
     "execution_count": 12,
     "metadata": {},
     "output_type": "execute_result"
    }
   ],
   "source": [
    "raw_convert_datatype_df.isna().sum()"
   ]
  },
  {
   "cell_type": "markdown",
   "metadata": {},
   "source": [
    "#### - Duplicate Value"
   ]
  },
  {
   "cell_type": "markdown",
   "metadata": {
    "ExecuteTime": {
     "end_time": "2021-01-29T16:15:35.816220Z",
     "start_time": "2021-01-29T16:15:35.030940Z"
    }
   },
   "source": [
    "Before"
   ]
  },
  {
   "cell_type": "code",
   "execution_count": 23,
   "metadata": {
    "ExecuteTime": {
     "end_time": "2021-01-29T16:14:29.244639Z",
     "start_time": "2021-01-29T16:14:29.219857Z"
    }
   },
   "outputs": [
    {
     "name": "stdout",
     "output_type": "stream",
     "text": [
      "Number of duplicated data is 76 rows\n"
     ]
    }
   ],
   "source": [
    "print('Number of duplicated data is', raw_convert_datatype_df[raw_convert_datatype_df.duplicated()].shape[0], 'rows')"
   ]
  },
  {
   "cell_type": "code",
   "execution_count": 24,
   "metadata": {
    "ExecuteTime": {
     "end_time": "2021-01-29T16:14:31.228823Z",
     "start_time": "2021-01-29T16:14:31.198741Z"
    }
   },
   "outputs": [],
   "source": [
    "raw_no_duplicate_df = raw_convert_datatype_df[~raw_convert_datatype_df.duplicated()]"
   ]
  },
  {
   "cell_type": "markdown",
   "metadata": {},
   "source": [
    "After"
   ]
  },
  {
   "cell_type": "code",
   "execution_count": 27,
   "metadata": {
    "ExecuteTime": {
     "end_time": "2021-01-29T16:15:24.313749Z",
     "start_time": "2021-01-29T16:15:24.287805Z"
    }
   },
   "outputs": [
    {
     "name": "stdout",
     "output_type": "stream",
     "text": [
      "Number of duplicated data is 0 rows\n"
     ]
    }
   ],
   "source": [
    "print('Number of duplicated data is',raw_no_duplicate_df[raw_no_duplicate_df.duplicated()].shape[0], 'rows')"
   ]
  },
  {
   "cell_type": "markdown",
   "metadata": {},
   "source": [
    "#### - Missing Value"
   ]
  },
  {
   "cell_type": "code",
   "execution_count": 30,
   "metadata": {
    "ExecuteTime": {
     "end_time": "2021-01-29T16:16:27.753418Z",
     "start_time": "2021-01-29T16:16:27.741749Z"
    }
   },
   "outputs": [
    {
     "data": {
      "text/plain": [
       "(11380, 7)"
      ]
     },
     "execution_count": 30,
     "metadata": {},
     "output_type": "execute_result"
    }
   ],
   "source": [
    "raw_no_duplicate_df.shape"
   ]
  },
  {
   "cell_type": "code",
   "execution_count": 29,
   "metadata": {
    "ExecuteTime": {
     "end_time": "2021-01-29T16:16:12.112675Z",
     "start_time": "2021-01-29T16:16:12.093027Z"
    }
   },
   "outputs": [
    {
     "data": {
      "text/plain": [
       "Market                         0\n",
       "Arrival Date                  59\n",
       "Arrivals (Tonnes)             59\n",
       "Variety                       35\n",
       "Minimum Price(Rs./Quintal)     0\n",
       "Maximum Price(Rs./Quintal)     0\n",
       "Modal Price(Rs./Quintal)       0\n",
       "dtype: int64"
      ]
     },
     "execution_count": 29,
     "metadata": {},
     "output_type": "execute_result"
    }
   ],
   "source": [
    "raw_no_duplicate_df.isna().sum()"
   ]
  },
  {
   "cell_type": "markdown",
   "metadata": {},
   "source": [
    "#### - Outlier"
   ]
  },
  {
   "cell_type": "code",
   "execution_count": null,
   "metadata": {},
   "outputs": [],
   "source": []
  }
 ],
 "metadata": {
  "kernelspec": {
   "display_name": "Python 3",
   "language": "python",
   "name": "python3"
  },
  "language_info": {
   "codemirror_mode": {
    "name": "ipython",
    "version": 3
   },
   "file_extension": ".py",
   "mimetype": "text/x-python",
   "name": "python",
   "nbconvert_exporter": "python",
   "pygments_lexer": "ipython3",
   "version": "3.8.5"
  }
 },
 "nbformat": 4,
 "nbformat_minor": 4
}
